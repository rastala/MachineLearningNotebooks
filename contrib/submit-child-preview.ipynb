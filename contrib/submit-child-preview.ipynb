{
 "cells": [
  {
   "cell_type": "markdown",
   "metadata": {},
   "source": [
    "## Example Notebook to submit child run and retrieve best model from tree of children\n",
    "\n",
    "### Azure Databricks cluster setup instructions\n",
    "\n",
    "In cluster libraries section:\n",
    "\n",
    "1. Install idna==2.5 from PyPi"
   ]
  },
  {
   "cell_type": "code",
   "execution_count": null,
   "metadata": {},
   "outputs": [],
   "source": [
    "from azureml.core import Workspace, Experiment, Run\n",
    "import sys, os, random"
   ]
  },
  {
   "cell_type": "code",
   "execution_count": null,
   "metadata": {},
   "outputs": [],
   "source": [
    "ws = Workspace(workspace_name=\"my-ws\", resource_group=\"my-rg\", subscription_id = \"my-sub-id\")"
   ]
  },
  {
   "cell_type": "code",
   "execution_count": null,
   "metadata": {},
   "outputs": [],
   "source": [
    "exp = Experiment(ws,\"test-exp\")"
   ]
  },
  {
   "cell_type": "code",
   "execution_count": null,
   "metadata": {},
   "outputs": [],
   "source": [
    "! mkdir test"
   ]
  },
  {
   "cell_type": "markdown",
   "metadata": {},
   "source": [
    "Script for child run"
   ]
  },
  {
   "cell_type": "code",
   "execution_count": null,
   "metadata": {},
   "outputs": [],
   "source": [
    "%%writefile test/train_child.py\n",
    "\n",
    "from azureml.core import Run\n",
    "import random\n",
    "\n",
    "run = Run.get_context()\n",
    "\n",
    "# Check the child run's parent id\n",
    "print(\"Hello from child with parent {}\".format(run.parent.id))\n",
    "\n",
    "run.log(\"accuracy\",random.uniform(0.5,1.0))\n",
    "with open(\"model.txt\",\"w\") as f:\n",
    "    f.write(\"dummy model\")\n",
    "run.upload_file(\"model.txt\",\"model.txt\")"
   ]
  },
  {
   "cell_type": "markdown",
   "metadata": {},
   "source": [
    "Script for parent run that submits child run to MLC cluster"
   ]
  },
  {
   "cell_type": "code",
   "execution_count": null,
   "metadata": {},
   "outputs": [],
   "source": [
    "%%writefile test/train.py\n",
    "\n",
    "from azureml.core import Run\n",
    "from azureml.core import ScriptRunConfig\n",
    "import random\n",
    "\n",
    "child_runconfig = ScriptRunConfig(\"/databricks/driver/test\",\"train_child.py\")\n",
    "\n",
    "child_runconfig.run_config.history.snapshot_project = False\n",
    "child_runconfig.run_config.target = \"cpu-cluster\"\n",
    "\n",
    "run = Run.get_context()\n",
    "\n",
    "## Log some value\n",
    "print(\"Hello from parent {}\".format(run.id))\n",
    "run.log(\"accuracy\",random.uniform(0.5,1.0))\n",
    "\n",
    "## Save model. Note that model can be any file-serializable content\n",
    "with open(\"model.txt\",\"w\") as f:\n",
    "    f.write(\"dummy model\")\n",
    "run.upload_file(\"model.txt\",\"model.txt\")\n",
    "\n",
    "## Submit 2 child runs\n",
    "child1 = run.submit_child(child_runconfig)\n",
    "child2 = run.submit_child(child_runconfig)\n",
    "\n",
    "## Wait for children to complete\n",
    "child1.wait_for_completion(show_output=True)\n",
    "child2.wait_for_completion(show_output=True)"
   ]
  },
  {
   "cell_type": "markdown",
   "metadata": {},
   "source": [
    "Submit a parent run that's local to Databricks cluster, then have parent submit child runs to Machine Learning Compute"
   ]
  },
  {
   "cell_type": "code",
   "execution_count": null,
   "metadata": {},
   "outputs": [],
   "source": [
    "from azureml.core import ScriptRunConfig\n",
    "\n",
    "runconfig = ScriptRunConfig(\"/databricks/driver/test\",\"train_child.py\")\n",
    "\n",
    "runconfig = ScriptRunConfig(\"/databricks/driver/test\",\"train.py\")\n",
    "runconfig.run_config.environment.python.conda_dependencies = conda_dependencies\n",
    "runconfig.run_config.target = \"local\"\n",
    "runconfig.run_config.history.snapshot_project = False\n",
    "runconfig.run_config.environment.python.user_managed_dependencies = True\n",
    "runconfig.run_config.environment.python.interpreter_path = sys.executable\n",
    "runconfig.run_config.environment.docker.enabled = False\n",
    "\n",
    "parent_run = exp.submit(config=runconfig)\n",
    "parent_run.wait_for_completion(show_output=True)"
   ]
  },
  {
   "cell_type": "markdown",
   "metadata": {},
   "source": [
    "Example of querying the tree of runs with common parent to find the one with best metric value"
   ]
  },
  {
   "cell_type": "code",
   "execution_count": null,
   "metadata": {},
   "outputs": [],
   "source": [
    "def get_best_run(parent_run, metric_name, metric_direction = \"descend\"):\n",
    "    if metric_direction not in [\"ascend\", \"descend\"]:\n",
    "        raise ValueError(\"metric_direction must be 'ascend' or 'descend'\")\n",
    "    runs = list(parent_run.get_children(recursive=True))\n",
    "    runs += [parent_run]  # Append parent to list of children\n",
    "    runs = [(run, run.get_metrics(name=metric_name) for run in runs]\n",
    "    if metric_direction == \"ascend\":\n",
    "        best_run = min(runs, key = lambda x: x[1])\n",
    "    else:\n",
    "        best_run = max(runs, key = lambda x: x[1])\n",
    "    return best_run"
   ]
  },
  {
   "cell_type": "code",
   "execution_count": null,
   "metadata": {},
   "outputs": [],
   "source": [
    "best_run, best_metric = get_best_run(parent_run,\"accuracy\",\"descend\")\n",
    "print(\"Run Id:\", best_run.id)\n",
    "print(\"Accuracy:\", best_metric)"
   ]
  },
  {
   "cell_type": "markdown",
   "metadata": {},
   "source": [
    "Register the model from best run"
   ]
  },
  {
   "cell_type": "code",
   "execution_count": null,
   "metadata": {},
   "outputs": [],
   "source": [
    "best_model = best_run.register_model(model_name= \"dummy-best-model\", model_path = \"model.txt\")\n",
    "print(\"Double-check run id:\", best_model.run_id)\n",
    "best_model"
   ]
  }
 ],
 "metadata": {
  "kernelspec": {
   "display_name": "Python 3",
   "language": "python",
   "name": "python3"
  },
  "language_info": {
   "codemirror_mode": {
    "name": "ipython",
    "version": 3
   },
   "file_extension": ".py",
   "mimetype": "text/x-python",
   "name": "python",
   "nbconvert_exporter": "python",
   "pygments_lexer": "ipython3",
   "version": "3.6.8"
  },
  "name": "submit_child_preview",
  "notebookId": 3832319361225933
 },
 "nbformat": 4,
 "nbformat_minor": 1
}
